{
 "cells": [
  {
   "cell_type": "code",
   "execution_count": 45,
   "id": "4575f26a",
   "metadata": {},
   "outputs": [],
   "source": [
    "#@title Bibliotecas\n",
    "import pandas as pd\n",
    "import numpy as np\n",
    "from sklearn.preprocessing import StandardScaler\n",
    "from sklearn.decomposition import PCA\n",
    "import seaborn as sns\n",
    "import matplotlib.pyplot as plt\n",
    "import statsmodels.api as sm\n",
    "from sklearn.ensemble import RandomForestClassifier\n",
    "from sklearn.neighbors import KNeighborsClassifier\n",
    "\n",
    "from sklearn.preprocessing import MinMaxScaler\n",
    "from sklearn.tree import DecisionTreeClassifier\n",
    "from sklearn.model_selection import train_test_split, GridSearchCV, KFold\n",
    "from sklearn.metrics import accuracy_score, confusion_matrix, classification_report, precision_score, recall_score, f1_score, ConfusionMatrixDisplay\n",
    "from sklearn.metrics import cohen_kappa_score\n",
    "from sklearn.tree import export_graphviz\n",
    "from IPython import display\n",
    "import matplotlib.pyplot as plt"
   ]
  },
  {
   "cell_type": "code",
   "execution_count": 46,
   "id": "af77e762",
   "metadata": {},
   "outputs": [],
   "source": [
    "# Función para generar métricas\n",
    "def fn_metricas_clasificacion(y_true, y_pred):\n",
    "  print('Accuracy     : %.3f' % accuracy_score(y_true, y_pred))\n",
    "  print(\"Precisión    : {}\".format(precision_score(y_true, y_pred, average=None)))\n",
    "  print(\"Recall       : {}\".format(recall_score(y_true, y_pred, average=None)))\n",
    "  print(\"Puntuación F1: {}\".format(f1_score(y_true, y_pred, average=None)))\n",
    "  print(\"Cohen Kappa  : {}\".format(cohen_kappa_score(y_true, y_pred)))"
   ]
  },
  {
   "cell_type": "code",
   "execution_count": 47,
   "id": "5831198b",
   "metadata": {},
   "outputs": [],
   "source": [
    "# Crear función para visualizar métricas\n",
    "def fn_metricas_info(modelo, y_verdadero, y_calculado):\n",
    "    metrics = {\n",
    "        'Accuracy': \"%.5f\" % accuracy_score(y_verdadero, y_calculado),\n",
    "        'Precisión': \"{}\".format(precision_score(y_verdadero, y_calculado, average=None)),\n",
    "        'Recall': \"{}\".format(recall_score(y_verdadero, y_calculado, average=None)),\n",
    "        'Puntuación F1': \"{}\".format(f1_score(y_verdadero, y_calculado, average=None)),\n",
    "        'Cohen Kappa': \"{}\".format(cohen_kappa_score(y_verdadero, y_calculado))\n",
    "    }\n",
    "    return pd.DataFrame(metrics, index=[modelo])"
   ]
  },
  {
   "cell_type": "code",
   "execution_count": 48,
   "id": "b911e6b8",
   "metadata": {},
   "outputs": [],
   "source": [
    "#Cargar base de datos\n",
    "df = pd.read_csv(\"C:/Users/ignac/Downloads/tareagit/nba_logreg2.csv\", sep = \";\")"
   ]
  },
  {
   "cell_type": "code",
   "execution_count": 49,
   "id": "dc9f8384",
   "metadata": {},
   "outputs": [
    {
     "name": "stdout",
     "output_type": "stream",
     "text": [
      "              Name  GP   MIN  PTS  FGM  FGA   FG%  3P Made  3PA   3P%  ...  \\\n",
      "0   Brandon Ingram  36  27.4  7.4  2.6  7.6  34.7      0.5  2.1  25.0  ...   \n",
      "1  Andrew Harrison  35  26.9  7.2  2.0  6.7  29.6      0.7  2.8  23.5  ...   \n",
      "2   JaKarr Sampson  74  15.3  5.2  2.0  4.7  42.2      0.4  1.7  24.4  ...   \n",
      "3      Malik Sealy  58  11.6  5.7  2.3  5.5  42.6      0.1  0.5  22.6  ...   \n",
      "4      Matt Geiger  48  11.5  4.5  1.6  3.0  52.4      0.0  0.1   0.0  ...   \n",
      "\n",
      "   FTA   FT%  OREB  DREB  REB  AST  STL  BLK  TOV  TARGET_5Yrs  \n",
      "0  2.3  69.9   0.7   3.4  4.1  1.9  0.4  0.4  1.3          0.0  \n",
      "1  3.4  76.5   0.5   2.0  2.4  3.7  1.1  0.5  1.6          0.0  \n",
      "2  1.3  67.0   0.5   1.7  2.2  1.0  0.5  0.3  1.0          0.0  \n",
      "3  1.3  68.9   1.0   0.9  1.9  0.8  0.6  0.1  1.0          1.0  \n",
      "4  1.9  67.4   1.0   1.5  2.5  0.3  0.3  0.4  0.8          1.0  \n",
      "\n",
      "[5 rows x 21 columns]\n",
      "                GP          MIN          PTS          FGM          FGA  \\\n",
      "count  1329.000000  1329.000000  1329.000000  1329.000000  1329.000000   \n",
      "mean     60.402558    17.647931     6.820166     2.634763     5.902483   \n",
      "std      17.481092     8.327441     4.365671     1.686850     3.598820   \n",
      "min      11.000000     3.100000     0.700000     0.300000     0.800000   \n",
      "25%      47.000000    10.800000     3.700000     1.400000     3.300000   \n",
      "50%      63.000000    16.100000     5.600000     2.100000     4.800000   \n",
      "75%      77.000000    22.900000     8.800000     3.400000     7.500000   \n",
      "max      82.000000    40.900000    28.200000    10.200000    19.800000   \n",
      "\n",
      "               FG%      3P Made          3PA          3P%          FTM  \\\n",
      "count  1329.000000  1329.000000  1329.000000  1329.000000  1329.000000   \n",
      "mean     44.117532     0.249661     0.785628    19.308126     1.302784   \n",
      "std       6.119492     0.384608     1.063856    16.022916     0.989341   \n",
      "min      23.800000     0.000000     0.000000     0.000000     0.000000   \n",
      "25%      40.200000     0.000000     0.000000     0.000000     0.600000   \n",
      "50%      43.900000     0.100000     0.300000    22.400000     1.000000   \n",
      "75%      47.800000     0.400000     1.200000    32.500000     1.700000   \n",
      "max      73.700000     2.300000     6.500000   100.000000     7.700000   \n",
      "\n",
      "               FTA          FT%         OREB         DREB          REB  \\\n",
      "count  1329.000000  1329.000000  1329.000000  1329.000000  1329.000000   \n",
      "mean      1.827314    70.407148     1.007600     2.021445     3.028442   \n",
      "std       1.326655    10.489838     0.779178     1.362464     2.062357   \n",
      "min       0.000000     0.000000     0.000000     0.200000     0.300000   \n",
      "25%       0.900000    64.800000     0.400000     1.000000     1.500000   \n",
      "50%       1.500000    71.300000     0.800000     1.700000     2.500000   \n",
      "75%       2.300000    77.600000     1.400000     2.600000     4.000000   \n",
      "max      10.200000   100.000000     5.300000     9.600000    13.900000   \n",
      "\n",
      "               AST          STL          BLK          TOV  TARGET_5Yrs  \n",
      "count  1329.000000  1329.000000  1329.000000  1329.000000  1329.000000  \n",
      "mean      1.558992     0.620391     0.366140     1.196012     0.621520  \n",
      "std       1.474159     0.410533     0.428534     0.724470     0.485191  \n",
      "min       0.000000     0.000000     0.000000     0.100000     0.000000  \n",
      "25%       0.600000     0.300000     0.100000     0.700000     0.000000  \n",
      "50%       1.100000     0.500000     0.200000     1.000000     1.000000  \n",
      "75%       2.000000     0.800000     0.500000     1.500000     1.000000  \n",
      "max      10.600000     2.500000     3.900000     4.400000     1.000000  \n"
     ]
    }
   ],
   "source": [
    "#Visualización \n",
    "print(df.head(5))\n",
    "print(df.describe())"
   ]
  },
  {
   "cell_type": "code",
   "execution_count": 50,
   "id": "f24e1f75",
   "metadata": {},
   "outputs": [
    {
     "data": {
      "text/plain": [
       "<bound method DataFrame.info of                  Name  GP   MIN  PTS  FGM  FGA   FG%  3P Made  3PA   3P%  ...  \\\n",
       "0      Brandon Ingram  36  27.4  7.4  2.6  7.6  34.7      0.5  2.1  25.0  ...   \n",
       "1     Andrew Harrison  35  26.9  7.2  2.0  6.7  29.6      0.7  2.8  23.5  ...   \n",
       "2      JaKarr Sampson  74  15.3  5.2  2.0  4.7  42.2      0.4  1.7  24.4  ...   \n",
       "3         Malik Sealy  58  11.6  5.7  2.3  5.5  42.6      0.1  0.5  22.6  ...   \n",
       "4         Matt Geiger  48  11.5  4.5  1.6  3.0  52.4      0.0  0.1   0.0  ...   \n",
       "...               ...  ..   ...  ...  ...  ...   ...      ...  ...   ...  ...   \n",
       "1324      Chris Smith  80  15.8  4.3  1.6  3.6  43.3      0.0  0.2  14.3  ...   \n",
       "1325      Brent Price  68  12.6  3.9  1.5  4.1  35.8      0.1  0.7  16.7  ...   \n",
       "1326     Marlon Maxey  43  12.1  5.4  2.2  3.9  55.0      0.0  0.0   0.0  ...   \n",
       "1327  Litterial Green  52  12.0  4.5  1.7  3.8  43.9      0.0  0.2  10.0  ...   \n",
       "1328        Jon Barry  47  11.7  4.4  1.6  4.4  36.9      0.4  1.3  33.3  ...   \n",
       "\n",
       "      FTA   FT%  OREB  DREB  REB  AST  STL  BLK  TOV  TARGET_5Yrs  \n",
       "0     2.3  69.9   0.7   3.4  4.1  1.9  0.4  0.4  1.3          0.0  \n",
       "1     3.4  76.5   0.5   2.0  2.4  3.7  1.1  0.5  1.6          0.0  \n",
       "2     1.3  67.0   0.5   1.7  2.2  1.0  0.5  0.3  1.0          0.0  \n",
       "3     1.3  68.9   1.0   0.9  1.9  0.8  0.6  0.1  1.0          1.0  \n",
       "4     1.9  67.4   1.0   1.5  2.5  0.3  0.3  0.4  0.8          1.0  \n",
       "...   ...   ...   ...   ...  ...  ...  ...  ...  ...          ...  \n",
       "1324  1.5  79.2   0.4   0.8  1.2  2.5  0.6  0.2  0.8          0.0  \n",
       "1325  1.0  79.4   0.4   1.1  1.5  2.3  0.8  0.0  1.3          1.0  \n",
       "1326  1.6  64.3   1.5   2.3  3.8  0.3  0.3  0.4  0.9          0.0  \n",
       "1327  1.8  62.5   0.2   0.4  0.7  2.2  0.4  0.1  0.8          1.0  \n",
       "1328  1.0  67.3   0.2   0.7  0.9  1.4  0.7  0.1  0.9          1.0  \n",
       "\n",
       "[1329 rows x 21 columns]>"
      ]
     },
     "execution_count": 50,
     "metadata": {},
     "output_type": "execute_result"
    }
   ],
   "source": [
    "df.info"
   ]
  },
  {
   "cell_type": "code",
   "execution_count": 51,
   "id": "b481f0cc",
   "metadata": {},
   "outputs": [
    {
     "data": {
      "text/plain": [
       "GP         1.0\n",
       "MIN        1.0\n",
       "PTS        1.0\n",
       "FGM        1.0\n",
       "FGA        1.0\n",
       "FG%        1.0\n",
       "3P Made    1.0\n",
       "3PA        1.0\n",
       "3P%        1.0\n",
       "FTM        1.0\n",
       "FTA        1.0\n",
       "FT%        1.0\n",
       "OREB       1.0\n",
       "DREB       1.0\n",
       "REB        1.0\n",
       "AST        1.0\n",
       "STL        1.0\n",
       "BLK        1.0\n",
       "dtype: float64"
      ]
     },
     "execution_count": 51,
     "metadata": {},
     "output_type": "execute_result"
    }
   ],
   "source": [
    "#@title Selección de variables continuias\n",
    "v_con = df.drop(columns = ['Name', 'TARGET_5Yrs'])\n",
    "v_con\n",
    "#@title Variables continuas estandarizadas y nuevo df de estas nuevas variables\n",
    "#Instanciar y aplicar fit_transfor a dataset\n",
    "data_std =  StandardScaler().fit_transform(v_con)\n",
    "\n",
    "# Generar dataframe desde los datos estandarizados, agregando nombre de columnas.\n",
    "df_data_std = pd.DataFrame(data_std, columns=v_con.columns)\n",
    "\n",
    "df_data_std.iloc[:,:-1].apply(lambda x: np.mean(x))\n",
    "df_data_std.iloc[:,:-1].apply(lambda x: np.var(x))"
   ]
  },
  {
   "cell_type": "code",
   "execution_count": 52,
   "id": "84f39528",
   "metadata": {},
   "outputs": [
    {
     "name": "stdout",
     "output_type": "stream",
     "text": [
      "Los autovalores son los siguientes: [9.53440739e+00 3.89576387e+00 1.22828525e+00 8.73721288e-01\n",
      " 7.43362340e-01 5.92776409e-01 5.01883433e-01 4.47004447e-01\n",
      " 3.97857000e-01 2.60638621e-01 2.32392775e-01 1.10082884e-01\n",
      " 1.00032583e-01 5.42374042e-02 1.46881655e-02 7.66798157e-03\n",
      " 4.66150605e-03 1.68631927e-04 3.68022435e-04]\n",
      "\n",
      "\n",
      "La cantidad de componentes a utilizar asciende a 4\n"
     ]
    }
   ],
   "source": [
    "#@title Número de componentes criterio de Kaiser\n",
    "autovalores = np.linalg.eigvals(np.corrcoef(df_data_std.T))\n",
    "\n",
    "print(f'Los autovalores son los siguientes: {autovalores}')\n",
    "\n",
    "# Filtro limite KMO\n",
    "autovalores_kaiser = autovalores[autovalores>=0.8]\n",
    "\n",
    "# Cantidad autovalores\n",
    "cantidad_autovalores_kaiser = len(autovalores_kaiser)\n",
    "print('\\n')\n",
    "print(f'La cantidad de componentes a utilizar asciende a {cantidad_autovalores_kaiser}')"
   ]
  },
  {
   "cell_type": "code",
   "execution_count": 53,
   "id": "d1277e19",
   "metadata": {},
   "outputs": [
    {
     "data": {
      "text/html": [
       "<div>\n",
       "<style scoped>\n",
       "    .dataframe tbody tr th:only-of-type {\n",
       "        vertical-align: middle;\n",
       "    }\n",
       "\n",
       "    .dataframe tbody tr th {\n",
       "        vertical-align: top;\n",
       "    }\n",
       "\n",
       "    .dataframe thead th {\n",
       "        text-align: right;\n",
       "    }\n",
       "</style>\n",
       "<table border=\"1\" class=\"dataframe\">\n",
       "  <thead>\n",
       "    <tr style=\"text-align: right;\">\n",
       "      <th></th>\n",
       "      <th>pct_var_expl</th>\n",
       "      <th>pct_var_expl_acum</th>\n",
       "    </tr>\n",
       "  </thead>\n",
       "  <tbody>\n",
       "    <tr>\n",
       "      <th>1.0</th>\n",
       "      <td>50.181092</td>\n",
       "      <td>50.181092</td>\n",
       "    </tr>\n",
       "    <tr>\n",
       "      <th>2.0</th>\n",
       "      <td>20.504020</td>\n",
       "      <td>70.685112</td>\n",
       "    </tr>\n",
       "    <tr>\n",
       "      <th>3.0</th>\n",
       "      <td>6.464659</td>\n",
       "      <td>77.149771</td>\n",
       "    </tr>\n",
       "    <tr>\n",
       "      <th>4.0</th>\n",
       "      <td>4.598533</td>\n",
       "      <td>81.748304</td>\n",
       "    </tr>\n",
       "    <tr>\n",
       "      <th>5.0</th>\n",
       "      <td>3.912433</td>\n",
       "      <td>85.660738</td>\n",
       "    </tr>\n",
       "    <tr>\n",
       "      <th>6.0</th>\n",
       "      <td>3.119876</td>\n",
       "      <td>88.780613</td>\n",
       "    </tr>\n",
       "    <tr>\n",
       "      <th>7.0</th>\n",
       "      <td>2.641492</td>\n",
       "      <td>91.422105</td>\n",
       "    </tr>\n",
       "    <tr>\n",
       "      <th>8.0</th>\n",
       "      <td>2.352655</td>\n",
       "      <td>93.774760</td>\n",
       "    </tr>\n",
       "    <tr>\n",
       "      <th>9.0</th>\n",
       "      <td>2.093984</td>\n",
       "      <td>95.868744</td>\n",
       "    </tr>\n",
       "    <tr>\n",
       "      <th>10.0</th>\n",
       "      <td>1.371782</td>\n",
       "      <td>97.240527</td>\n",
       "    </tr>\n",
       "    <tr>\n",
       "      <th>11.0</th>\n",
       "      <td>1.223120</td>\n",
       "      <td>98.463646</td>\n",
       "    </tr>\n",
       "    <tr>\n",
       "      <th>12.0</th>\n",
       "      <td>0.579384</td>\n",
       "      <td>99.043030</td>\n",
       "    </tr>\n",
       "    <tr>\n",
       "      <th>13.0</th>\n",
       "      <td>0.526487</td>\n",
       "      <td>99.569517</td>\n",
       "    </tr>\n",
       "    <tr>\n",
       "      <th>14.0</th>\n",
       "      <td>0.285460</td>\n",
       "      <td>99.854977</td>\n",
       "    </tr>\n",
       "    <tr>\n",
       "      <th>15.0</th>\n",
       "      <td>0.077306</td>\n",
       "      <td>99.932283</td>\n",
       "    </tr>\n",
       "    <tr>\n",
       "      <th>16.0</th>\n",
       "      <td>0.040358</td>\n",
       "      <td>99.972641</td>\n",
       "    </tr>\n",
       "    <tr>\n",
       "      <th>17.0</th>\n",
       "      <td>0.024534</td>\n",
       "      <td>99.997176</td>\n",
       "    </tr>\n",
       "    <tr>\n",
       "      <th>18.0</th>\n",
       "      <td>0.000888</td>\n",
       "      <td>99.998063</td>\n",
       "    </tr>\n",
       "    <tr>\n",
       "      <th>19.0</th>\n",
       "      <td>0.001937</td>\n",
       "      <td>100.000000</td>\n",
       "    </tr>\n",
       "  </tbody>\n",
       "</table>\n",
       "</div>"
      ],
      "text/plain": [
       "      pct_var_expl  pct_var_expl_acum\n",
       "1.0      50.181092          50.181092\n",
       "2.0      20.504020          70.685112\n",
       "3.0       6.464659          77.149771\n",
       "4.0       4.598533          81.748304\n",
       "5.0       3.912433          85.660738\n",
       "6.0       3.119876          88.780613\n",
       "7.0       2.641492          91.422105\n",
       "8.0       2.352655          93.774760\n",
       "9.0       2.093984          95.868744\n",
       "10.0      1.371782          97.240527\n",
       "11.0      1.223120          98.463646\n",
       "12.0      0.579384          99.043030\n",
       "13.0      0.526487          99.569517\n",
       "14.0      0.285460          99.854977\n",
       "15.0      0.077306          99.932283\n",
       "16.0      0.040358          99.972641\n",
       "17.0      0.024534          99.997176\n",
       "18.0      0.000888          99.998063\n",
       "19.0      0.001937         100.000000"
      ]
     },
     "execution_count": 53,
     "metadata": {},
     "output_type": "execute_result"
    }
   ],
   "source": [
    "#@title Varianza explicada de los componentes\n",
    "varianza_explicada=[]\n",
    "varianza_explicada_acum =[]\n",
    "\n",
    "# Loop para capturar la varianza explicada y la varianza explicada acumulada\n",
    "for i in autovalores:\n",
    "    varianza_explicada.append((i)/sum(autovalores)*100)\n",
    "    varianza_explicada_acum.append(sum(varianza_explicada))\n",
    "\n",
    "\n",
    "# Generar DataFrame\n",
    "matriz_var_expl = pd.DataFrame({'pct_var_expl': varianza_explicada,\n",
    "                                'pct_var_expl_acum': varianza_explicada_acum\n",
    "                               },\n",
    "                               index=np.linspace(1,len(autovalores), len(autovalores)))\n",
    "\n",
    "\n",
    "# Usamos la cantidad de autovalores que nos arrojo el criterio de Kaiser.\n",
    "matriz_var_expl.iloc[:,0:cantidad_autovalores_kaiser]"
   ]
  },
  {
   "cell_type": "code",
   "execution_count": 54,
   "id": "f12d5ded",
   "metadata": {},
   "outputs": [],
   "source": [
    "#@title PCA según el criterio de Kaiser en un DataFrame con semilla 2021\n",
    "# Criterio de Kaiser nos indica que son 4 las componentes.\n",
    "pca = PCA(n_components=4)"
   ]
  },
  {
   "cell_type": "code",
   "execution_count": 55,
   "id": "5fc4323a",
   "metadata": {},
   "outputs": [],
   "source": [
    "#@title Filt Transfor a dataset Normalizado.Generamos dataset reducido\n",
    "pca_2 = pca.fit_transform(data_std)"
   ]
  },
  {
   "cell_type": "code",
   "execution_count": 56,
   "id": "b32cc801",
   "metadata": {},
   "outputs": [
    {
     "data": {
      "text/html": [
       "<div>\n",
       "<style scoped>\n",
       "    .dataframe tbody tr th:only-of-type {\n",
       "        vertical-align: middle;\n",
       "    }\n",
       "\n",
       "    .dataframe tbody tr th {\n",
       "        vertical-align: top;\n",
       "    }\n",
       "\n",
       "    .dataframe thead th {\n",
       "        text-align: right;\n",
       "    }\n",
       "</style>\n",
       "<table border=\"1\" class=\"dataframe\">\n",
       "  <thead>\n",
       "    <tr style=\"text-align: right;\">\n",
       "      <th></th>\n",
       "      <th>CP1</th>\n",
       "      <th>CP2</th>\n",
       "      <th>CP3</th>\n",
       "      <th>CP4</th>\n",
       "    </tr>\n",
       "  </thead>\n",
       "  <tbody>\n",
       "    <tr>\n",
       "      <th>0</th>\n",
       "      <td>0.752446</td>\n",
       "      <td>1.225623</td>\n",
       "      <td>1.417699</td>\n",
       "      <td>1.114709</td>\n",
       "    </tr>\n",
       "    <tr>\n",
       "      <th>1</th>\n",
       "      <td>1.369880</td>\n",
       "      <td>2.999660</td>\n",
       "      <td>0.155570</td>\n",
       "      <td>1.606580</td>\n",
       "    </tr>\n",
       "    <tr>\n",
       "      <th>2</th>\n",
       "      <td>-0.978817</td>\n",
       "      <td>0.797069</td>\n",
       "      <td>0.579092</td>\n",
       "      <td>-0.059004</td>\n",
       "    </tr>\n",
       "    <tr>\n",
       "      <th>3</th>\n",
       "      <td>-1.390802</td>\n",
       "      <td>0.113382</td>\n",
       "      <td>-0.352939</td>\n",
       "      <td>-0.047073</td>\n",
       "    </tr>\n",
       "    <tr>\n",
       "      <th>4</th>\n",
       "      <td>-1.641404</td>\n",
       "      <td>-1.865789</td>\n",
       "      <td>-0.223249</td>\n",
       "      <td>-0.291817</td>\n",
       "    </tr>\n",
       "  </tbody>\n",
       "</table>\n",
       "</div>"
      ],
      "text/plain": [
       "        CP1       CP2       CP3       CP4\n",
       "0  0.752446  1.225623  1.417699  1.114709\n",
       "1  1.369880  2.999660  0.155570  1.606580\n",
       "2 -0.978817  0.797069  0.579092 -0.059004\n",
       "3 -1.390802  0.113382 -0.352939 -0.047073\n",
       "4 -1.641404 -1.865789 -0.223249 -0.291817"
      ]
     },
     "execution_count": 56,
     "metadata": {},
     "output_type": "execute_result"
    }
   ],
   "source": [
    "#@title Generar DataFrame de las componentes calculadas\n",
    "columnas = ['CP1', 'CP2','CP3', 'CP4']\n",
    "df_pca_2 = pd.DataFrame(pca_2 , columns=columnas)\n",
    "\n",
    "# Data reducida en sus dimensionalidades\n",
    "df_pca_2.head(5)"
   ]
  },
  {
   "cell_type": "code",
   "execution_count": 57,
   "id": "f220ece9",
   "metadata": {},
   "outputs": [
    {
     "data": {
      "text/html": [
       "<div>\n",
       "<style scoped>\n",
       "    .dataframe tbody tr th:only-of-type {\n",
       "        vertical-align: middle;\n",
       "    }\n",
       "\n",
       "    .dataframe tbody tr th {\n",
       "        vertical-align: top;\n",
       "    }\n",
       "\n",
       "    .dataframe thead th {\n",
       "        text-align: right;\n",
       "    }\n",
       "</style>\n",
       "<table border=\"1\" class=\"dataframe\">\n",
       "  <thead>\n",
       "    <tr style=\"text-align: right;\">\n",
       "      <th></th>\n",
       "      <th>CP 1</th>\n",
       "      <th>CP 2</th>\n",
       "      <th>CP 3</th>\n",
       "      <th>CP 4</th>\n",
       "    </tr>\n",
       "  </thead>\n",
       "  <tbody>\n",
       "    <tr>\n",
       "      <th>GP</th>\n",
       "      <td>0.200870</td>\n",
       "      <td>-0.014494</td>\n",
       "      <td>-0.139321</td>\n",
       "      <td>-0.360107</td>\n",
       "    </tr>\n",
       "    <tr>\n",
       "      <th>MIN</th>\n",
       "      <td>0.307752</td>\n",
       "      <td>0.070219</td>\n",
       "      <td>0.036731</td>\n",
       "      <td>0.039371</td>\n",
       "    </tr>\n",
       "    <tr>\n",
       "      <th>PTS</th>\n",
       "      <td>0.312648</td>\n",
       "      <td>0.053879</td>\n",
       "      <td>0.009937</td>\n",
       "      <td>-0.022884</td>\n",
       "    </tr>\n",
       "    <tr>\n",
       "      <th>FGM</th>\n",
       "      <td>0.308814</td>\n",
       "      <td>0.028995</td>\n",
       "      <td>-0.004130</td>\n",
       "      <td>-0.017736</td>\n",
       "    </tr>\n",
       "    <tr>\n",
       "      <th>FGA</th>\n",
       "      <td>0.302246</td>\n",
       "      <td>0.100608</td>\n",
       "      <td>0.004719</td>\n",
       "      <td>0.031231</td>\n",
       "    </tr>\n",
       "    <tr>\n",
       "      <th>FG%</th>\n",
       "      <td>0.100517</td>\n",
       "      <td>-0.298281</td>\n",
       "      <td>-0.025214</td>\n",
       "      <td>-0.283462</td>\n",
       "    </tr>\n",
       "    <tr>\n",
       "      <th>3P Made</th>\n",
       "      <td>0.088462</td>\n",
       "      <td>0.397269</td>\n",
       "      <td>0.421023</td>\n",
       "      <td>0.058223</td>\n",
       "    </tr>\n",
       "    <tr>\n",
       "      <th>3PA</th>\n",
       "      <td>0.091705</td>\n",
       "      <td>0.409117</td>\n",
       "      <td>0.387372</td>\n",
       "      <td>0.094306</td>\n",
       "    </tr>\n",
       "    <tr>\n",
       "      <th>3P%</th>\n",
       "      <td>0.027882</td>\n",
       "      <td>0.356375</td>\n",
       "      <td>0.274381</td>\n",
       "      <td>-0.140869</td>\n",
       "    </tr>\n",
       "    <tr>\n",
       "      <th>FTM</th>\n",
       "      <td>0.291140</td>\n",
       "      <td>-0.013980</td>\n",
       "      <td>-0.107023</td>\n",
       "      <td>-0.062650</td>\n",
       "    </tr>\n",
       "    <tr>\n",
       "      <th>FTA</th>\n",
       "      <td>0.291321</td>\n",
       "      <td>-0.067085</td>\n",
       "      <td>-0.084903</td>\n",
       "      <td>0.037287</td>\n",
       "    </tr>\n",
       "    <tr>\n",
       "      <th>FT%</th>\n",
       "      <td>0.067063</td>\n",
       "      <td>0.242833</td>\n",
       "      <td>-0.107489</td>\n",
       "      <td>-0.796801</td>\n",
       "    </tr>\n",
       "    <tr>\n",
       "      <th>OREB</th>\n",
       "      <td>0.220030</td>\n",
       "      <td>-0.309593</td>\n",
       "      <td>0.168752</td>\n",
       "      <td>-0.006706</td>\n",
       "    </tr>\n",
       "    <tr>\n",
       "      <th>DREB</th>\n",
       "      <td>0.261380</td>\n",
       "      <td>-0.200668</td>\n",
       "      <td>0.247414</td>\n",
       "      <td>0.014309</td>\n",
       "    </tr>\n",
       "    <tr>\n",
       "      <th>REB</th>\n",
       "      <td>0.256113</td>\n",
       "      <td>-0.249986</td>\n",
       "      <td>0.226474</td>\n",
       "      <td>0.007322</td>\n",
       "    </tr>\n",
       "    <tr>\n",
       "      <th>AST</th>\n",
       "      <td>0.186030</td>\n",
       "      <td>0.261458</td>\n",
       "      <td>-0.414054</td>\n",
       "      <td>0.204356</td>\n",
       "    </tr>\n",
       "    <tr>\n",
       "      <th>STL</th>\n",
       "      <td>0.236274</td>\n",
       "      <td>0.151666</td>\n",
       "      <td>-0.277306</td>\n",
       "      <td>0.212093</td>\n",
       "    </tr>\n",
       "    <tr>\n",
       "      <th>BLK</th>\n",
       "      <td>0.160865</td>\n",
       "      <td>-0.280073</td>\n",
       "      <td>0.312267</td>\n",
       "      <td>0.027204</td>\n",
       "    </tr>\n",
       "    <tr>\n",
       "      <th>TOV</th>\n",
       "      <td>0.283885</td>\n",
       "      <td>0.087998</td>\n",
       "      <td>-0.242521</td>\n",
       "      <td>0.162746</td>\n",
       "    </tr>\n",
       "  </tbody>\n",
       "</table>\n",
       "</div>"
      ],
      "text/plain": [
       "             CP 1      CP 2      CP 3      CP 4\n",
       "GP       0.200870 -0.014494 -0.139321 -0.360107\n",
       "MIN      0.307752  0.070219  0.036731  0.039371\n",
       "PTS      0.312648  0.053879  0.009937 -0.022884\n",
       "FGM      0.308814  0.028995 -0.004130 -0.017736\n",
       "FGA      0.302246  0.100608  0.004719  0.031231\n",
       "FG%      0.100517 -0.298281 -0.025214 -0.283462\n",
       "3P Made  0.088462  0.397269  0.421023  0.058223\n",
       "3PA      0.091705  0.409117  0.387372  0.094306\n",
       "3P%      0.027882  0.356375  0.274381 -0.140869\n",
       "FTM      0.291140 -0.013980 -0.107023 -0.062650\n",
       "FTA      0.291321 -0.067085 -0.084903  0.037287\n",
       "FT%      0.067063  0.242833 -0.107489 -0.796801\n",
       "OREB     0.220030 -0.309593  0.168752 -0.006706\n",
       "DREB     0.261380 -0.200668  0.247414  0.014309\n",
       "REB      0.256113 -0.249986  0.226474  0.007322\n",
       "AST      0.186030  0.261458 -0.414054  0.204356\n",
       "STL      0.236274  0.151666 -0.277306  0.212093\n",
       "BLK      0.160865 -0.280073  0.312267  0.027204\n",
       "TOV      0.283885  0.087998 -0.242521  0.162746"
      ]
     },
     "execution_count": 57,
     "metadata": {},
     "output_type": "execute_result"
    }
   ],
   "source": [
    "# Generar DataFrame con los loading\n",
    "df_loading = pd.DataFrame(pca.components_.T, columns=['CP 1', 'CP 2', 'CP 3', 'CP 4'], index=df_data_std.columns)\n",
    "df_loading"
   ]
  },
  {
   "cell_type": "code",
   "execution_count": 58,
   "id": "f79905c9",
   "metadata": {},
   "outputs": [],
   "source": [
    "#@title Calculo de las componentes principales para cada valor\n",
    "puntajes = np.dot(df_data_std, pca.components_.T)"
   ]
  },
  {
   "cell_type": "code",
   "execution_count": 59,
   "id": "4888ad77",
   "metadata": {},
   "outputs": [
    {
     "data": {
      "text/html": [
       "<div>\n",
       "<style scoped>\n",
       "    .dataframe tbody tr th:only-of-type {\n",
       "        vertical-align: middle;\n",
       "    }\n",
       "\n",
       "    .dataframe tbody tr th {\n",
       "        vertical-align: top;\n",
       "    }\n",
       "\n",
       "    .dataframe thead th {\n",
       "        text-align: right;\n",
       "    }\n",
       "</style>\n",
       "<table border=\"1\" class=\"dataframe\">\n",
       "  <thead>\n",
       "    <tr style=\"text-align: right;\">\n",
       "      <th></th>\n",
       "      <th>CP 1</th>\n",
       "      <th>CP 2</th>\n",
       "      <th>CP 3</th>\n",
       "      <th>CP 4</th>\n",
       "    </tr>\n",
       "  </thead>\n",
       "  <tbody>\n",
       "    <tr>\n",
       "      <th>0</th>\n",
       "      <td>0.752446</td>\n",
       "      <td>1.225623</td>\n",
       "      <td>1.417699</td>\n",
       "      <td>1.114709</td>\n",
       "    </tr>\n",
       "    <tr>\n",
       "      <th>1</th>\n",
       "      <td>1.369880</td>\n",
       "      <td>2.999660</td>\n",
       "      <td>0.155569</td>\n",
       "      <td>1.606580</td>\n",
       "    </tr>\n",
       "    <tr>\n",
       "      <th>2</th>\n",
       "      <td>-0.978817</td>\n",
       "      <td>0.797069</td>\n",
       "      <td>0.579092</td>\n",
       "      <td>-0.059004</td>\n",
       "    </tr>\n",
       "    <tr>\n",
       "      <th>3</th>\n",
       "      <td>-1.390802</td>\n",
       "      <td>0.113382</td>\n",
       "      <td>-0.352939</td>\n",
       "      <td>-0.047073</td>\n",
       "    </tr>\n",
       "    <tr>\n",
       "      <th>4</th>\n",
       "      <td>-1.641404</td>\n",
       "      <td>-1.865789</td>\n",
       "      <td>-0.223249</td>\n",
       "      <td>-0.291817</td>\n",
       "    </tr>\n",
       "    <tr>\n",
       "      <th>...</th>\n",
       "      <td>...</td>\n",
       "      <td>...</td>\n",
       "      <td>...</td>\n",
       "      <td>...</td>\n",
       "    </tr>\n",
       "    <tr>\n",
       "      <th>1324</th>\n",
       "      <td>-1.326350</td>\n",
       "      <td>0.384773</td>\n",
       "      <td>-1.591338</td>\n",
       "      <td>-1.080821</td>\n",
       "    </tr>\n",
       "    <tr>\n",
       "      <th>1325</th>\n",
       "      <td>-1.561167</td>\n",
       "      <td>1.274796</td>\n",
       "      <td>-1.377610</td>\n",
       "      <td>-0.279668</td>\n",
       "    </tr>\n",
       "    <tr>\n",
       "      <th>1326</th>\n",
       "      <td>-1.071185</td>\n",
       "      <td>-2.489702</td>\n",
       "      <td>0.220311</td>\n",
       "      <td>-0.041185</td>\n",
       "    </tr>\n",
       "    <tr>\n",
       "      <th>1327</th>\n",
       "      <td>-2.163738</td>\n",
       "      <td>-0.003823</td>\n",
       "      <td>-1.332926</td>\n",
       "      <td>0.609726</td>\n",
       "    </tr>\n",
       "    <tr>\n",
       "      <th>1328</th>\n",
       "      <td>-2.193825</td>\n",
       "      <td>1.779195</td>\n",
       "      <td>0.094306</td>\n",
       "      <td>0.710578</td>\n",
       "    </tr>\n",
       "  </tbody>\n",
       "</table>\n",
       "<p>1329 rows × 4 columns</p>\n",
       "</div>"
      ],
      "text/plain": [
       "          CP 1      CP 2      CP 3      CP 4\n",
       "0     0.752446  1.225623  1.417699  1.114709\n",
       "1     1.369880  2.999660  0.155569  1.606580\n",
       "2    -0.978817  0.797069  0.579092 -0.059004\n",
       "3    -1.390802  0.113382 -0.352939 -0.047073\n",
       "4    -1.641404 -1.865789 -0.223249 -0.291817\n",
       "...        ...       ...       ...       ...\n",
       "1324 -1.326350  0.384773 -1.591338 -1.080821\n",
       "1325 -1.561167  1.274796 -1.377610 -0.279668\n",
       "1326 -1.071185 -2.489702  0.220311 -0.041185\n",
       "1327 -2.163738 -0.003823 -1.332926  0.609726\n",
       "1328 -2.193825  1.779195  0.094306  0.710578\n",
       "\n",
       "[1329 rows x 4 columns]"
      ]
     },
     "execution_count": 59,
     "metadata": {},
     "output_type": "execute_result"
    }
   ],
   "source": [
    "#@title Valor de las componentes principales para cada observación (principal component scores)\n",
    "df_puntajes = pd.DataFrame(puntajes, columns=['CP 1', 'CP 2', 'CP 3', 'CP 4'] ,index = df_data_std.index)\n",
    "df_puntajes"
   ]
  },
  {
   "cell_type": "code",
   "execution_count": null,
   "id": "513df50e",
   "metadata": {},
   "outputs": [],
   "source": [
    "#MODELO LAZZY"
   ]
  },
  {
   "cell_type": "code",
   "execution_count": 74,
   "id": "51c320bf",
   "metadata": {},
   "outputs": [
    {
     "name": "stdout",
     "output_type": "stream",
     "text": [
      "Collecting lazypredict\n",
      "  Using cached lazypredict-0.2.12-py2.py3-none-any.whl (12 kB)\n",
      "Requirement already satisfied: joblib in c:\\users\\ignac\\anaconda3\\lib\\site-packages (from lazypredict) (1.1.0)\n",
      "Requirement already satisfied: xgboost in c:\\users\\ignac\\anaconda3\\lib\\site-packages (from lazypredict) (2.1.0)\n",
      "Requirement already satisfied: pandas in c:\\users\\ignac\\anaconda3\\lib\\site-packages (from lazypredict) (1.4.4)\n",
      "Requirement already satisfied: click in c:\\users\\ignac\\anaconda3\\lib\\site-packages (from lazypredict) (8.0.4)\n",
      "Collecting lightgbm\n",
      "  Using cached lightgbm-4.4.0-py3-none-win_amd64.whl (1.4 MB)\n",
      "Requirement already satisfied: tqdm in c:\\users\\ignac\\anaconda3\\lib\\site-packages (from lazypredict) (4.64.1)\n",
      "Requirement already satisfied: scikit-learn in c:\\users\\ignac\\anaconda3\\lib\\site-packages (from lazypredict) (1.0.2)\n",
      "Requirement already satisfied: colorama in c:\\users\\ignac\\anaconda3\\lib\\site-packages (from click->lazypredict) (0.4.5)\n",
      "Requirement already satisfied: scipy in c:\\users\\ignac\\anaconda3\\lib\\site-packages (from lightgbm->lazypredict) (1.9.1)\n",
      "Requirement already satisfied: numpy>=1.17.0 in c:\\users\\ignac\\anaconda3\\lib\\site-packages (from lightgbm->lazypredict) (1.21.5)\n",
      "Requirement already satisfied: pytz>=2020.1 in c:\\users\\ignac\\anaconda3\\lib\\site-packages (from pandas->lazypredict) (2022.1)\n",
      "Requirement already satisfied: python-dateutil>=2.8.1 in c:\\users\\ignac\\anaconda3\\lib\\site-packages (from pandas->lazypredict) (2.8.2)\n",
      "Requirement already satisfied: threadpoolctl>=2.0.0 in c:\\users\\ignac\\anaconda3\\lib\\site-packages (from scikit-learn->lazypredict) (2.2.0)\n",
      "Requirement already satisfied: six>=1.5 in c:\\users\\ignac\\anaconda3\\lib\\site-packages (from python-dateutil>=2.8.1->pandas->lazypredict) (1.16.0)\n",
      "Installing collected packages: lightgbm, lazypredict\n",
      "Successfully installed lazypredict-0.2.12 lightgbm-4.4.0\n"
     ]
    }
   ],
   "source": [
    "!pip install lazypredict"
   ]
  },
  {
   "cell_type": "code",
   "execution_count": 75,
   "id": "cc9e61b0",
   "metadata": {},
   "outputs": [],
   "source": [
    "from lazypredict.Supervised import LazyClassifier"
   ]
  },
  {
   "cell_type": "code",
   "execution_count": 76,
   "id": "5e09e1cb",
   "metadata": {},
   "outputs": [],
   "source": [
    "#@title Particiomanos nuestros datos\n",
    "X = df_puntajes\n",
    "y = df['TARGET_5Yrs']\n",
    "X_train, X_test, y_train, y_test = train_test_split(X, y, train_size = 0.8, random_state =0)"
   ]
  },
  {
   "cell_type": "code",
   "execution_count": 77,
   "id": "5f7c40ef",
   "metadata": {},
   "outputs": [
    {
     "name": "stderr",
     "output_type": "stream",
     "text": [
      "100%|██████████████████████████████████████████████████████████████████████████████████| 29/29 [00:01<00:00, 16.40it/s]"
     ]
    },
    {
     "name": "stdout",
     "output_type": "stream",
     "text": [
      "[LightGBM] [Info] Number of positive: 664, number of negative: 399\n",
      "[LightGBM] [Info] Auto-choosing col-wise multi-threading, the overhead of testing was 0.000197 seconds.\n",
      "You can set `force_col_wise=true` to remove the overhead.\n",
      "[LightGBM] [Info] Total Bins 1020\n",
      "[LightGBM] [Info] Number of data points in the train set: 1063, number of used features: 4\n",
      "[LightGBM] [Info] [binary:BoostFromScore]: pavg=0.624647 -> initscore=0.509321\n",
      "[LightGBM] [Info] Start training from score 0.509321\n"
     ]
    },
    {
     "name": "stderr",
     "output_type": "stream",
     "text": [
      "\n"
     ]
    }
   ],
   "source": [
    "clf = LazyClassifier(verbose=0, ignore_warnings=True, custom_metric=None)\n",
    "models, predictions = clf.fit(X_train, X_test, y_train, y_test)"
   ]
  },
  {
   "cell_type": "code",
   "execution_count": 78,
   "id": "8b6cb79f",
   "metadata": {},
   "outputs": [
    {
     "name": "stdout",
     "output_type": "stream",
     "text": [
      "El mejor modelo es NearestCentroid con una precisión de 0.73\n"
     ]
    }
   ],
   "source": [
    "best_model_name = models.index[0]\n",
    "best_model = models.iloc[0]\n",
    "accuracy = best_model['Accuracy']\n",
    "print(f\"El mejor modelo es {best_model_name} con una precisión de {accuracy:.2f}\")"
   ]
  },
  {
   "cell_type": "code",
   "execution_count": 60,
   "id": "63cbf025",
   "metadata": {},
   "outputs": [],
   "source": [
    "#@title Particiomanos nuestros datos\n",
    "X = df_puntajes\n",
    "y = df['TARGET_5Yrs']\n",
    "X_train, X_test, y_train, y_test = train_test_split(X, y, train_size = 0.8, random_state =0)"
   ]
  },
  {
   "cell_type": "code",
   "execution_count": 79,
   "id": "77143d0b",
   "metadata": {},
   "outputs": [],
   "source": [
    "#@title Modelo supervisado Random Forest\n",
    "#Instanciar algoritmo de clasificación RFC\n",
    "rfc_clf = RandomForestClassifier()\n",
    "# Aplicar modelo a datos de entrenamietno\n",
    "classifier = rfc_clf.fit(X_train, y_train)"
   ]
  },
  {
   "cell_type": "code",
   "execution_count": 80,
   "id": "462549ca",
   "metadata": {},
   "outputs": [],
   "source": [
    "#@title Generamos predicciones con datos test\n",
    "y_pred_rfc = classifier.predict(X_test)"
   ]
  },
  {
   "cell_type": "code",
   "execution_count": 81,
   "id": "839d646c",
   "metadata": {},
   "outputs": [
    {
     "data": {
      "image/png": "[encoded data removed]",
      "text/plain": [
       "<Figure size 640x480 with 2 Axes>"
      ]
     },
     "metadata": {},
     "output_type": "display_data"
    }
   ],
   "source": [
    "#@title Matriz de confusión visualmente\n",
    "cm = confusion_matrix(y_true=y_test, y_pred=y_pred_rfc)\n",
    "cm_display = ConfusionMatrixDisplay(cm, display_labels=df['TARGET_5Yrs'].unique()).plot()"
   ]
  },
  {
   "cell_type": "code",
   "execution_count": 82,
   "id": "9eca1966",
   "metadata": {},
   "outputs": [
    {
     "name": "stdout",
     "output_type": "stream",
     "text": [
      "Accuracy     : 0.711\n",
      "Precisión    : [0.67088608 0.72727273]\n",
      "Recall       : [0.50961538 0.83950617]\n",
      "Puntuación F1: [0.57923497 0.77936963]\n",
      "Cohen Kappa  : 0.3648204428456242\n"
     ]
    }
   ],
   "source": [
    "#@title Métricas\n",
    "fn_metricas_clasificacion(y_test, y_pred_rfc)"
   ]
  },
  {
   "cell_type": "code",
   "execution_count": 83,
   "id": "32991d92",
   "metadata": {},
   "outputs": [
    {
     "data": {
      "text/plain": [
       "{'criterion': 'entropy',\n",
       " 'max_depth': 10,\n",
       " 'min_samples_leaf': 8,\n",
       " 'min_samples_split': 12,\n",
       " 'n_estimators': 25}"
      ]
     },
     "execution_count": 83,
     "metadata": {},
     "output_type": "execute_result"
    }
   ],
   "source": [
    "#@title Ajustes de Hiperparámetros\n",
    "from sklearn.model_selection import GridSearchCV\n",
    "\n",
    "# Generar las particiones\n",
    "particiones = KFold(n_splits=10, shuffle=True, random_state=0)\n",
    "\n",
    "# Definir los hiperparámetros y sus posibles valores\n",
    "param_grid = {\n",
    "    'n_estimators': [10,25,50],\n",
    "    'max_depth' : [5,10,15],\n",
    "    'criterion' : ['gini', 'entropy', 'log_loss'],\n",
    "    'min_samples_split': [6,8,12],\n",
    "    'min_samples_leaf': [4,8,12],\n",
    "}\n",
    "\n",
    "# Instanciar el modelo sin hiperparámetros\n",
    "rf_clf = RandomForestClassifier(class_weight='balanced')\n",
    "\n",
    "# Aplicar GridSearchCV  usando el diccionario de hiperparámetros\n",
    "mejor_modelo_rfc = GridSearchCV(estimator=rf_clf, param_grid=param_grid, cv=particiones, scoring='accuracy')\n",
    "\n",
    "# Entrenar el modelo con datos train\n",
    "mejor_modelo_rfc.fit(X_train, y_train)\n",
    "\n",
    "# Obtener los mejores parámetros\n",
    "mejor_modelo_rfc.best_params_"
   ]
  },
  {
   "cell_type": "code",
   "execution_count": 84,
   "id": "f9755b8b",
   "metadata": {},
   "outputs": [
    {
     "data": {
      "text/plain": [
       "RandomForestClassifier(class_weight='balanced', criterion='entropy',\n",
       "                       max_depth=10, min_samples_leaf=8, min_samples_split=12,\n",
       "                       n_estimators=25)"
      ]
     },
     "execution_count": 84,
     "metadata": {},
     "output_type": "execute_result"
    }
   ],
   "source": [
    "#@title Vemos los mejores hiperparametros\n",
    "mejor_modelo_rfc.best_estimator_"
   ]
  },
  {
   "cell_type": "code",
   "execution_count": 85,
   "id": "12bf6083",
   "metadata": {},
   "outputs": [
    {
     "name": "stdout",
     "output_type": "stream",
     "text": [
      "              precision    recall  f1-score   support\n",
      "\n",
      "         0.0       0.66      0.63      0.65       104\n",
      "         1.0       0.77      0.79      0.78       162\n",
      "\n",
      "    accuracy                           0.73       266\n",
      "   macro avg       0.72      0.71      0.71       266\n",
      "weighted avg       0.73      0.73      0.73       266\n",
      "\n"
     ]
    }
   ],
   "source": [
    "#@title Obtener el mejor modelo\n",
    "modelo_final = mejor_modelo_rfc.best_estimator_\n",
    "# Obtener predicciones con el set de test\n",
    "y_pred = modelo_final.predict(X_test)\n",
    "# Imprimir reporte de clasificación\n",
    "print(classification_report(y_test, y_pred))"
   ]
  },
  {
   "cell_type": "code",
   "execution_count": 86,
   "id": "73727818",
   "metadata": {},
   "outputs": [
    {
     "data": {
      "text/html": [
       "<div>\n",
       "<style scoped>\n",
       "    .dataframe tbody tr th:only-of-type {\n",
       "        vertical-align: middle;\n",
       "    }\n",
       "\n",
       "    .dataframe tbody tr th {\n",
       "        vertical-align: top;\n",
       "    }\n",
       "\n",
       "    .dataframe thead th {\n",
       "        text-align: right;\n",
       "    }\n",
       "</style>\n",
       "<table border=\"1\" class=\"dataframe\">\n",
       "  <thead>\n",
       "    <tr style=\"text-align: right;\">\n",
       "      <th></th>\n",
       "      <th>Accuracy</th>\n",
       "      <th>Precisión</th>\n",
       "      <th>Recall</th>\n",
       "      <th>Puntuación F1</th>\n",
       "      <th>Cohen Kappa</th>\n",
       "    </tr>\n",
       "  </thead>\n",
       "  <tbody>\n",
       "    <tr>\n",
       "      <th>random_forest</th>\n",
       "      <td>0.72932</td>\n",
       "      <td>[0.66       0.77108434]</td>\n",
       "      <td>[0.63461538 0.79012346]</td>\n",
       "      <td>[0.64705882 0.7804878 ]</td>\n",
       "      <td>0.4276834807554387</td>\n",
       "    </tr>\n",
       "  </tbody>\n",
       "</table>\n",
       "</div>"
      ],
      "text/plain": [
       "              Accuracy                Precisión                   Recall  \\\n",
       "random_forest  0.72932  [0.66       0.77108434]  [0.63461538 0.79012346]   \n",
       "\n",
       "                         Puntuación F1         Cohen Kappa  \n",
       "random_forest  [0.64705882 0.7804878 ]  0.4276834807554387  "
      ]
     },
     "execution_count": 86,
     "metadata": {},
     "output_type": "execute_result"
    }
   ],
   "source": [
    "#@title Métricas del modelo\n",
    "metrica_rfs = fn_metricas_info('random_forest', y_test, y_pred)\n",
    "metrica_rfs"
   ]
  },
  {
   "cell_type": "code",
   "execution_count": null,
   "id": "7266f019",
   "metadata": {},
   "outputs": [],
   "source": []
  },
  {
   "cell_type": "code",
   "execution_count": null,
   "id": "f22f12a6",
   "metadata": {},
   "outputs": [],
   "source": []
  },
  {
   "cell_type": "code",
   "execution_count": null,
   "id": "88082ee7",
   "metadata": {},
   "outputs": [],
   "source": []
  },
  {
   "cell_type": "code",
   "execution_count": null,
   "id": "ecde7a4d",
   "metadata": {},
   "outputs": [],
   "source": []
  }
 ],
 "metadata": {
  "kernelspec": {
   "display_name": "Python 3 (ipykernel)",
   "language": "python",
   "name": "python3"
  },
  "language_info": {
   "codemirror_mode": {
    "name": "ipython",
    "version": 3
   },
   "file_extension": ".py",
   "mimetype": "text/x-python",
   "name": "python",
   "nbconvert_exporter": "python",
   "pygments_lexer": "ipython3",
   "version": "3.9.13"
  }
 },
 "nbformat": 4,
 "nbformat_minor": 5
}
