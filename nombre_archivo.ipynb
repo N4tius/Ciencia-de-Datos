{
 "cells": [
  {
   "cell_type": "code",
   "execution_count": 2,
   "metadata": {},
   "outputs": [
    {
     "ename": "ModuleNotFoundError",
     "evalue": "No module named 'sklearn'",
     "output_type": "error",
     "traceback": [
      "\u001b[1;31m---------------------------------------------------------------------------\u001b[0m",
      "\u001b[1;31mModuleNotFoundError\u001b[0m                       Traceback (most recent call last)",
      "Cell \u001b[1;32mIn[2], line 1\u001b[0m\n\u001b[1;32m----> 1\u001b[0m \u001b[38;5;28;01mfrom\u001b[39;00m \u001b[38;5;21;01msklearn\u001b[39;00m\u001b[38;5;21;01m.\u001b[39;00m\u001b[38;5;21;01mdecomposition\u001b[39;00m \u001b[38;5;28;01mimport\u001b[39;00m PCA\n\u001b[0;32m      2\u001b[0m \u001b[38;5;28;01mimport\u001b[39;00m \u001b[38;5;21;01mseaborn\u001b[39;00m \u001b[38;5;28;01mas\u001b[39;00m \u001b[38;5;21;01msns\u001b[39;00m\n\u001b[0;32m      3\u001b[0m \u001b[38;5;28;01mimport\u001b[39;00m \u001b[38;5;21;01mmatplotlib\u001b[39;00m\u001b[38;5;21;01m.\u001b[39;00m\u001b[38;5;21;01mpyplot\u001b[39;00m \u001b[38;5;28;01mas\u001b[39;00m \u001b[38;5;21;01mplt\u001b[39;00m\n",
      "\u001b[1;31mModuleNotFoundError\u001b[0m: No module named 'sklearn'"
     ]
    }
   ],
   "source": [
    "import pandas as pd \n",
    "from sklearn.decomposition import PCA\n",
    "import seaborn as sns\n",
    "import matplotlib.pyplot as plt\n",
    "import numpy as np\n",
    "from sklearn.preprocessing import StandardScaler"
   ]
  },
  {
   "cell_type": "code",
   "execution_count": null,
   "metadata": {},
   "outputs": [],
   "source": [
    "#Cargar base de datos\n",
    "df = pd.read_csv(\"C:\\Users\\ignac\\Downloads\\tareagit\\nba_logreg2.csv\", sep = \";\")"
   ]
  },
  {
   "cell_type": "code",
   "execution_count": null,
   "metadata": {},
   "outputs": [],
   "source": [
    "#Visualización \n",
    "print(df.head(5))\n",
    "print(df.describe())"
   ]
  },
  {
   "cell_type": "code",
   "execution_count": null,
   "metadata": {},
   "outputs": [],
   "source": [
    "#@title Selección de variables continuias\n",
    "v_con = df.drop(columns = ['Name', 'TARGET_5Yrs'])\n",
    "v_con\n",
    "#@title Variables continuas estandarizadas y nuevo df de estas nuevas variables\n",
    "#Instanciar y aplicar fit_transfor a dataset\n",
    "data_std =  StandardScaler().fit_transform(v_con)\n",
    "\n",
    "# Generar dataframe desde los datos estandarizados, agregando nombre de columnas.\n",
    "df_data_std = pd.DataFrame(data_std, columns=v_con.columns)\n",
    "\n",
    "df_data_std.iloc[:,:-1].apply(lambda x: np.mean(x).round(20))\n",
    "df_data_std.iloc[:,:-1].apply(lambda x: np.var(x))"
   ]
  },
  {
   "cell_type": "code",
   "execution_count": null,
   "metadata": {},
   "outputs": [],
   "source": [
    "#Aplicando el indice de Barlet el p-value es 0, por lo que a cualquier nivel de significancia se rechaza la hipotesis nula. Por lo tanto existe una relacion entre las variables."
   ]
  },
  {
   "cell_type": "code",
   "execution_count": null,
   "metadata": {},
   "outputs": [],
   "source": [
    "#@title Número de componentes criterio de Kaiser\n",
    "autovalores = np.linalg.eigvals(np.corrcoef(df_data_std.T))\n",
    "\n",
    "print(f'Los autovalores son los siguientes: {autovalores}')\n",
    "\n",
    "# Filtro limite KMO\n",
    "autovalores_kaiser = autovalores[autovalores>=0.8]\n",
    "\n",
    "# Cantidad autovalores\n",
    "cantidad_autovalores_kaiser = len(autovalores_kaiser)\n",
    "print('\\n')\n",
    "print(f'La cantidad de componentes a utilizar asciende a {cantidad_autovalores_kaiser}')"
   ]
  },
  {
   "cell_type": "code",
   "execution_count": null,
   "metadata": {},
   "outputs": [],
   "source": [
    "#@title Varianza explicada de los componentes\n",
    "varianza_explicada=[]\n",
    "varianza_explicada_acum =[]\n",
    "\n",
    "# Loop para capturar la varianza explicada y la varianza explicada acumulada\n",
    "for i in autovalores:\n",
    "    varianza_explicada.append((i)/sum(autovalores)*100)\n",
    "    varianza_explicada_acum.append(sum(varianza_explicada))\n",
    "\n",
    "\n",
    "# Generar DataFrame\n",
    "matriz_var_expl = pd.DataFrame({'pct_var_expl': varianza_explicada,\n",
    "                                'pct_var_expl_acum': varianza_explicada_acum\n",
    "                               },\n",
    "                               index=np.linspace(1,len(autovalores), len(autovalores)))\n",
    "\n",
    "\n",
    "# Usamos la cantidad de autovalores que nos arrojo el criterio de Kaiser.\n",
    "matriz_var_expl.iloc[:,0:cantidad_autovalores_kaiser]"
   ]
  },
  {
   "cell_type": "code",
   "execution_count": null,
   "metadata": {},
   "outputs": [],
   "source": [
    "#@title PCA según el criterio de Kaiser en un DataFrame con semilla 2021\n",
    "# Criterio de Kaiser nos indica que son 4 las componentes.\n",
    "pca = PCA(n_components=4)"
   ]
  },
  {
   "cell_type": "code",
   "execution_count": null,
   "metadata": {},
   "outputs": [],
   "source": [
    "#@title Filt Transfor a dataset Normalizado.Generamos dataset reducido\n",
    "pca_2 = pca.fit_transform(data_std)"
   ]
  },
  {
   "cell_type": "code",
   "execution_count": null,
   "metadata": {},
   "outputs": [],
   "source": [
    "#@title Generar DataFrame de las componentes calculadas\n",
    "columnas = ['CP1', 'CP2','CP3', 'CP4']\n",
    "df_pca_2 = pd.DataFrame(pca_2 , columns=columnas)\n",
    "\n",
    "# Data reducida en sus dimensionalidades\n",
    "df_pca_2.head(5)"
   ]
  },
  {
   "cell_type": "code",
   "execution_count": null,
   "metadata": {},
   "outputs": [],
   "source": [
    "# Generar DataFrame con los loading\n",
    "df_loading = pd.DataFrame(pca.components_.T, columns=['CP 1', 'CP 2', 'CP 3', 'CP 4'], index=df_data_std.columns)\n",
    "df_loading"
   ]
  },
  {
   "cell_type": "code",
   "execution_count": null,
   "metadata": {},
   "outputs": [],
   "source": [
    "#@title Calculo de las componentes principales para cada valor\n",
    "puntajes = np.dot(df_data_std, pca.components_.T)"
   ]
  },
  {
   "cell_type": "code",
   "execution_count": null,
   "metadata": {},
   "outputs": [],
   "source": [
    "#@title Valor de las componentes principales para cada observación (principal component scores)\n",
    "df_puntajes = pd.DataFrame(puntajes, columns=['CP 1', 'CP 2', 'CP 3', 'CP 4'] ,index = df_data_std.index)\n",
    "df_puntajes"
   ]
  }
 ],
 "metadata": {
  "kernelspec": {
   "display_name": "Python 3",
   "language": "python",
   "name": "python3"
  },
  "language_info": {
   "codemirror_mode": {
    "name": "ipython",
    "version": 3
   },
   "file_extension": ".py",
   "mimetype": "text/x-python",
   "name": "python",
   "nbconvert_exporter": "python",
   "pygments_lexer": "ipython3",
   "version": "3.11.2"
  }
 },
 "nbformat": 4,
 "nbformat_minor": 2
}
